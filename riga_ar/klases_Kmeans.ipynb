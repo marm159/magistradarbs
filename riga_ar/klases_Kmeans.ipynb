{
 "cells": [
  {
   "cell_type": "code",
   "execution_count": 1,
   "metadata": {},
   "outputs": [],
   "source": [
    "import pandas as pd\n",
    "from sklearn.cluster import KMeans"
   ]
  },
  {
   "cell_type": "code",
   "execution_count": 2,
   "metadata": {},
   "outputs": [],
   "source": [
    "# Ielādē datus no CSV faila\n",
    "df = pd.read_csv('dati_fin.csv', sep=';')"
   ]
  },
  {
   "cell_type": "code",
   "execution_count": null,
   "metadata": {},
   "outputs": [],
   "source": [
    "# Paņem darījuma summas, lai tās varētu izmantot klasterizācijai\n",
    "cenas = df[['Darījuma summa, EUR']].values\n",
    "\n",
    "# Izveido K-means klasterizācijas modeli ar 5 klasteriem\n",
    "kmeans = KMeans(n_clusters=5, random_state=42)\n",
    "# Pielieto K-means modeli un pievieno jaunu kolonnu ar klasteru numuriem\n",
    "df['cenu_kat'] = kmeans.fit_predict(cenas)\n",
    "\n",
    "# Iegūst katra klastera centru (vidējo darījuma summu katrā klasterī)\n",
    "clust_cent = kmeans.cluster_centers_.flatten()"
   ]
  },
  {
   "cell_type": "code",
   "execution_count": null,
   "metadata": {},
   "outputs": [],
   "source": [
    "# Nosaka katra klastera cenu diapazonu (no zemākās līdz augstākajai summai)\n",
    "cenu_diap = []\n",
    "for cluster in range(5):\n",
    "    # Atlasa darījumu summas, kas pieder konkrētajam klasterim\n",
    "    cluster_cenas = df[df['cenu_kat'] == cluster]['Darījuma summa, EUR']\n",
    "    zems = cluster_cenas.min() # Attiecīgā klastera minimālā darījuma summa\n",
    "    augsts = cluster_cenas.max() # Attiecīgā klastera maksimālā darījuma summa\n",
    "    cenu_diap.append((zems, augsts)) # Saglabā cenu diapazonu kā pāri (min, max)\n"
   ]
  },
  {
   "cell_type": "code",
   "execution_count": 5,
   "metadata": {},
   "outputs": [
    {
     "name": "stdout",
     "output_type": "stream",
     "text": [
      "Kategorija 1: Cenu diapazons no 47200.00 līdz 92360.00 EUR\n",
      "Kategorija 2: Cenu diapazons no 147240.00 līdz 244576.89 EUR\n",
      "Kategorija 3: Cenu diapazons no 1000.00 līdz 47100.00 EUR\n",
      "Kategorija 4: Cenu diapazons no 244900.00 līdz 745000.00 EUR\n",
      "Kategorija 5: Cenu diapazons no 92383.13 līdz 147000.00 EUR\n"
     ]
    }
   ],
   "source": [
    "# Izdrukā katra klastera cenu diapazonu\n",
    "for i, (zems, augsts) in enumerate(cenu_diap, start=1):\n",
    "    print(f\"Kategorija {i}: Cenu diapazons no {zems:.2f} līdz {augsts:.2f} EUR\")"
   ]
  }
 ],
 "metadata": {
  "kernelspec": {
   "display_name": ".venv",
   "language": "python",
   "name": "python3"
  },
  "language_info": {
   "codemirror_mode": {
    "name": "ipython",
    "version": 3
   },
   "file_extension": ".py",
   "mimetype": "text/x-python",
   "name": "python",
   "nbconvert_exporter": "python",
   "pygments_lexer": "ipython3",
   "version": "3.12.6"
  }
 },
 "nbformat": 4,
 "nbformat_minor": 2
}
